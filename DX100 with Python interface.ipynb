{
 "cells": [
  {
   "cell_type": "markdown",
   "metadata": {},
   "source": [
    "# This is the code for object oriented programming of Yasakawa Robot DX100 working on UDP protocol.\n",
    " \n",
    " I have not yet completed the problem but i am very close to completing it.\n",
    " \n",
    " the UDP reader in Yasakawa is reading data in bytes in big endian format but the data is to be sent before the timeout period.. that is 1 second roughly. \n",
    " so when we are sending we are converting everything we want to send to a list of bytes\n",
    " this list is then sent (one-by-one)\n",
    " then there is a delay of 1 second\n",
    " hopefully this whole message is considered as one"
   ]
  },
  {
   "cell_type": "code",
   "execution_count": null,
   "metadata": {},
   "outputs": [],
   "source": []
  },
  {
   "cell_type": "code",
   "execution_count": 32,
   "metadata": {},
   "outputs": [],
   "source": [
    "class RobotDX100():\n",
    "    import socket\n",
    "    import time\n",
    "    \n",
    "    \n",
    "    \n",
    "    def __init__(self, ip = '192.168.0.151', port = 10040):\n",
    "        self.ip = ip\n",
    "        self.port = port\n",
    "        self.var = []\n",
    "        #variables and the order for sending variables\n",
    "    \n",
    "        self.tosend1 = [89, 69, 82, 67, 32, 0, 4, 0, 3, 1, 0]\n",
    "    #reqid = 01,02,03\n",
    "        self.tosend2 = [0, 0, 0, 0, 57, 57, 57, 57, 57, 57, 57, 57]\n",
    "    #cdno = int('83') \n",
    "        self.tosend3 = [0]\n",
    "    #inst = 2\n",
    "        self.tosend4 = [0] \n",
    "    #att = [1] \n",
    "    #ser = int('10')\n",
    "        self.tosend5 = [0, 0]\n",
    "    #dataon = [1,0,0,0]\n",
    "    def connect(self):\n",
    "        import socket\n",
    "        #to create the socket through which we will be sending our UDP message to the server\n",
    "        clientSock = socket.socket(socket.AF_INET, socket.SOCK_DGRAM)\n",
    "    \n",
    "    def servo(self, on = True):\n",
    "        #to write the code that will send our UDP message (turn on)\n",
    "        reqid = [1]\n",
    "        cdno = [83]\n",
    "        inst = [2] \n",
    "        att = [1]\n",
    "        ser = [10]\n",
    "        dataon = [1, 0, 0, 0]\n",
    "        dataoff = [2, 0, 0, 0]\n",
    "        \n",
    "        self.var = []\n",
    "        self.var.extend(self.tosend1)\n",
    "        self.var.extend(reqid)\n",
    "        self.var.extend(self.tosend2)\n",
    "        self.var.extend(cdno)\n",
    "        self.var.extend(self.tosend3)\n",
    "        self.var.extend(inst)\n",
    "        self.var.extend(self.tosend4)\n",
    "        self.var.extend(att)\n",
    "        self.var.extend(ser)\n",
    "        self.var.extend(self.tosend5)\n",
    "        if on == True:\n",
    "            self.var.extend(dataon)\n",
    "        else:\n",
    "            self.var.extend(dataoff)\n",
    "        return self.var"
   ]
  },
  {
   "cell_type": "code",
   "execution_count": 33,
   "metadata": {},
   "outputs": [],
   "source": [
    "r = RobotDX100()"
   ]
  },
  {
   "cell_type": "code",
   "execution_count": null,
   "metadata": {},
   "outputs": [],
   "source": [
    "class test():\n",
    "    def __init__(self):\n",
    "        self.vari = [45]\n",
    "        self.jhata = [69]\n",
    "    def bata(self, l):\n",
    "        self.vari = []\n",
    "        self.vari.extend(l)\n",
    "        self.vari.extend(self.jhata)\n",
    "        self.vari.extend([999])\n",
    "        return self.vari"
   ]
  },
  {
   "cell_type": "code",
   "execution_count": null,
   "metadata": {},
   "outputs": [],
   "source": [
    "obj = test()"
   ]
  },
  {
   "cell_type": "code",
   "execution_count": null,
   "metadata": {},
   "outputs": [],
   "source": [
    "obj.bata([23, 56])"
   ]
  },
  {
   "cell_type": "code",
   "execution_count": 3,
   "metadata": {},
   "outputs": [],
   "source": [
    "r.connect()"
   ]
  },
  {
   "cell_type": "code",
   "execution_count": 12,
   "metadata": {},
   "outputs": [
    {
     "data": {
      "text/plain": [
       "[89,\n",
       " 69,\n",
       " 82,\n",
       " 67,\n",
       " 32,\n",
       " 0,\n",
       " 4,\n",
       " 0,\n",
       " 3,\n",
       " 1,\n",
       " 0,\n",
       " 1,\n",
       " 0,\n",
       " 0,\n",
       " 0,\n",
       " 0,\n",
       " 57,\n",
       " 57,\n",
       " 57,\n",
       " 57,\n",
       " 57,\n",
       " 57,\n",
       " 57,\n",
       " 57,\n",
       " 83,\n",
       " 0,\n",
       " 2,\n",
       " 0,\n",
       " 1,\n",
       " 10,\n",
       " 0,\n",
       " 0,\n",
       " 2,\n",
       " 0,\n",
       " 0,\n",
       " 0]"
      ]
     },
     "execution_count": 12,
     "metadata": {},
     "output_type": "execute_result"
    }
   ],
   "source": [
    "r.servo(False)"
   ]
  },
  {
   "cell_type": "code",
   "execution_count": 37,
   "metadata": {},
   "outputs": [
    {
     "data": {
      "text/plain": [
       "bytes"
      ]
     },
     "execution_count": 37,
     "metadata": {},
     "output_type": "execute_result"
    }
   ],
   "source": [
    "import socket\n",
    "import time\n",
    "UDP_IP_ADDRESS = r.ip\n",
    "UDP_PORT_NO = r.port\n",
    "\n",
    "\n",
    "#to create the socket through which we will be sending our UDP message to the server\n",
    "clientSock = socket.socket(socket.AF_INET, socket.SOCK_DGRAM)\n",
    "\n",
    "#make x = dataservoon in bytes.\n",
    "x = [i.to_bytes(1, 'little') for i in r.servo(True)]\n",
    "\n",
    "'''\n",
    "byte = x[0]\n",
    "for i in range(len(x)-1):\n",
    "    byte = byte + x[i+1]\n",
    "    \n",
    "    \n",
    "    \n",
    "i = len(x)-1\n",
    "while i > 0:\n",
    "    byte = byte + x[i]\n",
    "    i -= 1\n",
    "    \n",
    "    \n",
    "byte = byte + x[0]\n",
    "'''  \n",
    "\n",
    "\n",
    "#to write each element (One-by-one) of the list in our UDP message (turn on)\n",
    "(clientSock.sendto( i , (r.ip, r.port)) for i in x)\n",
    "\n",
    "#r.var = 0\n",
    "\n",
    "\n",
    "time.sleep(5)# number of seconds\n",
    "\n",
    "\n",
    "#make x = dataservooff in bytes.\n",
    "x = [i.to_bytes(1, 'little') for i in r.servo(False)]\n",
    "\n",
    "    \n",
    "#to write each element (One-by-one) of the list in our UDP message (turn on)\n",
    "(clientSock.sendto( i , (r.ip, r.port)) for i in x)\n",
    "\n",
    "type(x[1])\n",
    "\n"
   ]
  },
  {
   "cell_type": "code",
   "execution_count": 26,
   "metadata": {},
   "outputs": [
    {
     "name": "stdout",
     "output_type": "stream",
     "text": [
      "array('u', 'Y')\n"
     ]
    }
   ],
   "source": [
    "import array\n",
    "var = array.array('u', ['Y'])\n",
    "print(var)"
   ]
  },
  {
   "cell_type": "code",
   "execution_count": 34,
   "metadata": {},
   "outputs": [
    {
     "name": "stdout",
     "output_type": "stream",
     "text": [
      "array('u', 'YEEEEE')\n",
      "<class 'str'>\n"
     ]
    },
    {
     "data": {
      "text/plain": [
       "chararray([b'\\x07', '', '', '', ''], dtype='|S1')"
      ]
     },
     "execution_count": 34,
     "metadata": {},
     "output_type": "execute_result"
    }
   ],
   "source": [
    "var.append('E')\n",
    "print(var)\n",
    "print(type(var[1]))\n",
    "import numpy as np\n",
    "np.chararray(5)"
   ]
  },
  {
   "cell_type": "code",
   "execution_count": 5,
   "metadata": {},
   "outputs": [
    {
     "data": {
      "text/plain": [
       "int"
      ]
     },
     "execution_count": 5,
     "metadata": {},
     "output_type": "execute_result"
    }
   ],
   "source": [
    "x = 0x5945\n",
    "type(x)"
   ]
  },
  {
   "cell_type": "code",
   "execution_count": 6,
   "metadata": {},
   "outputs": [
    {
     "data": {
      "text/plain": [
       "22853"
      ]
     },
     "execution_count": 6,
     "metadata": {},
     "output_type": "execute_result"
    }
   ],
   "source": [
    "x"
   ]
  },
  {
   "cell_type": "code",
   "execution_count": null,
   "metadata": {},
   "outputs": [],
   "source": []
  }
 ],
 "metadata": {
  "kernelspec": {
   "display_name": "Python 3",
   "language": "python",
   "name": "python3"
  },
  "language_info": {
   "codemirror_mode": {
    "name": "ipython",
    "version": 3
   },
   "file_extension": ".py",
   "mimetype": "text/x-python",
   "name": "python",
   "nbconvert_exporter": "python",
   "pygments_lexer": "ipython3",
   "version": "3.6.5"
  }
 },
 "nbformat": 4,
 "nbformat_minor": 2
}
