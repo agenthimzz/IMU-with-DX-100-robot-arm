{
 "cells": [
  {
   "cell_type": "code",
   "execution_count": null,
   "metadata": {},
   "outputs": [],
   "source": [
    "import numpy as np\n"
   ]
  },
  {
   "cell_type": "code",
   "execution_count": null,
   "metadata": {},
   "outputs": [],
   "source": [
    "## Defining protocol data for Servo turn on/off\n",
    "\n",
    "reqid=1\n",
    "cdno=hex2dec('83')\n",
    "inst=2\n",
    "att=1\n",
    "ser=hex2dec('10');\n",
    "dataon=[1, 0, 0, 0];\n",
    "dataoff=[2, 0, 0, 0];\n",
    "dataservoon=[89, 69, 82, 67, 32, 0, 4, 0, 3, 1, 0, reqid, 0, 0, 0, 0, 57, 57, 57, 57, 57, 57, 57, 57, cdno, 0, inst, 0, att, ser, 0, 0, dataon];\n",
    "dataservooff=[89, 69, 82, 67, 32, 0, 4, 0, 3, 1, 0, reqid, 0, 0, 0, 0, 57, 57, 57, 57, 57, 57, 57, 57, cdno, 0, inst, 0, att, ser, 0, 0, dataoff];"
   ]
  },
  {
   "cell_type": "code",
   "execution_count": null,
   "metadata": {},
   "outputs": [],
   "source": [
    "a = np.array([1, 2, 3, 4])\n",
    "b = np.array([2, 3, 4, 5])\n",
    "np.concatenate((a,b), axis=0)\n",
    "np.hstack((a,b))"
   ]
  },
  {
   "cell_type": "code",
   "execution_count": null,
   "metadata": {},
   "outputs": [],
   "source": [
    "cdno=int('83')\n",
    "cdno"
   ]
  },
  {
   "cell_type": "code",
   "execution_count": null,
   "metadata": {},
   "outputs": [],
   "source": [
    "np.hstack((a,cdno,b,25,33))"
   ]
  },
  {
   "cell_type": "code",
   "execution_count": 1,
   "metadata": {},
   "outputs": [],
   "source": [
    "import numpy as np\n",
    "\n",
    "\n",
    "#servo on or off\n",
    "def servo_motor(a):\n",
    "    reqid=1\n",
    "    cdno=int('83')\n",
    "    inst=2\n",
    "    att=1\n",
    "    ser=int('10')\n",
    "    dataon = np.array([1, 0, 0, 0])\n",
    "    dataoff = np.array([2, 0, 0, 0])\n",
    "    dataservoon = np.hstack((89, 69, 82, 67, 32, 0, 4, 0, 3, 1, 0, reqid, 0, 0, 0, 0, 57, 57, 57, 57, 57, 57, 57, 57, cdno, 0, inst, 0, att, ser, 0, 0, dataon))\n",
    "    dataservooff = np.hstack((89, 69, 82, 67, 32, 0, 4, 0, 3, 1, 0, reqid, 0, 0, 0, 0, 57, 57, 57, 57, 57, 57, 57, 57, cdno, 0, inst, 0, att, ser, 0, 0, dataoff))\n",
    "    if a == True:\n",
    "        return dataservoon\n",
    "    else:\n",
    "        return dataservooff\n",
    "    \n",
    "#type of input givent to the code is 'a' which is a boolean varaible"
   ]
  },
  {
   "cell_type": "code",
   "execution_count": 30,
   "metadata": {},
   "outputs": [
    {
     "ename": "TypeError",
     "evalue": "'NoneType' object is not subscriptable",
     "output_type": "error",
     "traceback": [
      "\u001b[0;31m---------------------------------------------------------------------------\u001b[0m",
      "\u001b[0;31mTypeError\u001b[0m                                 Traceback (most recent call last)",
      "\u001b[0;32m<ipython-input-30-2f537f0f5405>\u001b[0m in \u001b[0;36m<module>\u001b[0;34m()\u001b[0m\n\u001b[1;32m      4\u001b[0m \u001b[0;34m\u001b[0m\u001b[0m\n\u001b[1;32m      5\u001b[0m \u001b[0mfinal\u001b[0m \u001b[0;34m=\u001b[0m \u001b[0mfinal\u001b[0m\u001b[0;34m.\u001b[0m\u001b[0mextend\u001b[0m\u001b[0;34m(\u001b[0m\u001b[0mtestb\u001b[0m\u001b[0;34m)\u001b[0m\u001b[0;34m\u001b[0m\u001b[0m\n\u001b[0;32m----> 6\u001b[0;31m \u001b[0mprint\u001b[0m\u001b[0;34m(\u001b[0m\u001b[0mfinal\u001b[0m\u001b[0;34m[\u001b[0m\u001b[0;36m0\u001b[0m\u001b[0;34m]\u001b[0m\u001b[0;34m)\u001b[0m\u001b[0;34m\u001b[0m\u001b[0m\n\u001b[0m",
      "\u001b[0;31mTypeError\u001b[0m: 'NoneType' object is not subscriptable"
     ]
    }
   ],
   "source": [
    "final = ['00']\n",
    "testa = ['01', '00', '00', '00']\n",
    "testb = ['02', '00', '00', '00']\n",
    "\n",
    "final = final.extend(testb)\n",
    "print(final)"
   ]
  },
  {
   "cell_type": "code",
   "execution_count": 4,
   "metadata": {},
   "outputs": [
    {
     "data": {
      "text/plain": [
       "numpy.int64"
      ]
     },
     "execution_count": 4,
     "metadata": {},
     "output_type": "execute_result"
    }
   ],
   "source": [
    "servo_motor(a=1)[0]"
   ]
  },
  {
   "cell_type": "code",
   "execution_count": 7,
   "metadata": {},
   "outputs": [
    {
     "data": {
      "text/plain": [
       "str"
      ]
     },
     "execution_count": 7,
     "metadata": {},
     "output_type": "execute_result"
    }
   ],
   "source": [
    "def little(string):\n",
    "    t = bytearray.fromhex(string)\n",
    "    t.reverse()\n",
    "    return ''.join(format(x,'02x') for x in t).upper()\n",
    "x = little(string='AA55CC3301AA55CC330F234567')\n",
    "#6745230F33CC55AA0133CC55AA\n",
    "#little(string='12345678901101')\n",
    "type(x)"
   ]
  },
  {
   "cell_type": "code",
   "execution_count": null,
   "metadata": {},
   "outputs": [],
   "source": [
    "x.encode()"
   ]
  },
  {
   "cell_type": "code",
   "execution_count": 43,
   "metadata": {},
   "outputs": [
    {
     "data": {
      "text/plain": [
       "b'\\\\x89\\\\x69\\\\x82\\\\x67\\\\x32\\\\x00\\\\x04\\\\x00\\\\x03\\\\x01\\\\x00\\\\x01\\\\x00\\\\x00\\\\x00\\\\x00\\\\x57\\\\x57\\\\x57\\\\x57\\\\x57\\\\x57\\\\x57\\\\x57\\\\x83\\\\x00\\\\x02\\\\x00\\\\x01\\\\x10\\\\x00\\\\x00\\\\x01\\\\x00\\\\x00\\\\x00'"
      ]
     },
     "execution_count": 43,
     "metadata": {},
     "output_type": "execute_result"
    }
   ],
   "source": [
    "dataon.encode()"
   ]
  },
  {
   "cell_type": "code",
   "execution_count": 87,
   "metadata": {},
   "outputs": [
    {
     "ename": "TypeError",
     "evalue": "a bytes-like object is required, not 'list'",
     "output_type": "error",
     "traceback": [
      "\u001b[0;31m---------------------------------------------------------------------------\u001b[0m",
      "\u001b[0;31mTypeError\u001b[0m                                 Traceback (most recent call last)",
      "\u001b[0;32m<ipython-input-87-228cfe9b29b5>\u001b[0m in \u001b[0;36m<module>\u001b[0;34m()\u001b[0m\n\u001b[1;32m     15\u001b[0m \u001b[0;34m\u001b[0m\u001b[0m\n\u001b[1;32m     16\u001b[0m \u001b[0;31m#to write the code that will send our UDP message (turn on)\u001b[0m\u001b[0;34m\u001b[0m\u001b[0;34m\u001b[0m\u001b[0m\n\u001b[0;32m---> 17\u001b[0;31m \u001b[0mclientSock\u001b[0m\u001b[0;34m.\u001b[0m\u001b[0msendto\u001b[0m\u001b[0;34m(\u001b[0m\u001b[0mabyte\u001b[0m\u001b[0;34m,\u001b[0m \u001b[0;34m(\u001b[0m\u001b[0mUDP_IP_ADDRESS\u001b[0m\u001b[0;34m,\u001b[0m \u001b[0mUDP_PORT_NO\u001b[0m\u001b[0;34m)\u001b[0m\u001b[0;34m)\u001b[0m\u001b[0;34m\u001b[0m\u001b[0m\n\u001b[0m\u001b[1;32m     18\u001b[0m \u001b[0;31m#x = clientSock.recvmsg(1000)\u001b[0m\u001b[0;34m\u001b[0m\u001b[0;34m\u001b[0m\u001b[0m\n\u001b[1;32m     19\u001b[0m \u001b[0;34m\u001b[0m\u001b[0m\n",
      "\u001b[0;31mTypeError\u001b[0m: a bytes-like object is required, not 'list'"
     ]
    }
   ],
   "source": [
    "import socket\n",
    "UDP_IP_ADDRESS = '192.168.0.101'\n",
    "UDP_PORT_NO = 10040\n",
    "\n",
    "dataon = '\\\\x89\\\\x69\\\\x82\\\\x67\\\\x32\\\\x00\\\\x04\\\\x00\\\\x03\\\\x01\\\\x00\\\\x01\\\\x00\\\\x00\\\\x00\\\\x00\\\\x57\\\\x57\\\\x57\\\\x57\\\\x57\\\\x57\\\\x57\\\\x57\\\\x83\\\\x00\\\\x02\\\\x00\\\\x01\\\\x10\\\\x00\\\\x00\\\\x01\\\\x00\\\\x00\\\\x00'\n",
    "dataoff = '\\\\x89\\\\x69\\\\x82\\\\x67\\\\x32\\\\x00\\\\x04\\\\x00\\\\x03\\\\x01\\\\x00\\\\x01\\\\x00\\\\x00\\\\x00\\\\x00\\\\x57\\\\x57\\\\x57\\\\x57\\\\x57\\\\x57\\\\x57\\\\x57\\\\x83\\\\x00\\\\x02\\\\x00\\\\x01\\\\x10\\\\x00\\\\x00\\\\x02\\\\x00\\\\x00\\\\x00'\n",
    "\n",
    "import time\n",
    "\n",
    "#to create the socket through which we will be sending our UDP message to the server\n",
    "clientSock = socket.socket(socket.AF_INET, socket.SOCK_DGRAM)\n",
    "\n",
    "#clientSock.connect((UDP_IP_ADDRESS, UDP_PORT_NO))\n",
    "\n",
    "\n",
    "#to write the code that will send our UDP message (turn on)\n",
    "clientSock.sendto(abyte, (UDP_IP_ADDRESS, UDP_PORT_NO))\n",
    "#x = clientSock.recvmsg(1000)\n",
    "\n",
    "time.sleep(5)# number of seconds\n",
    "\n",
    "#to write the code that will send our UDP message (turn off)\n",
    "clientSock.sendto(abyte, (UDP_IP_ADDRESS, UDP_PORT_NO))\n"
   ]
  },
  {
   "cell_type": "code",
   "execution_count": null,
   "metadata": {},
   "outputs": [],
   "source": [
    "import socket\n",
    "UDP_IP_ADDRESS = '192.168.0.151'\n",
    "UDP_PORT_NO = 10040\n",
    "Message = \"Hello, Server\"\n",
    "\n",
    "\n",
    "import time\n",
    "\n",
    "#to create the socket through which we will be sending our UDP message to the server\n",
    "clientSock = socket.socket(socket.AF_INET, socket.SOCK_DGRAM)\n",
    "\n",
    "clientSock.bind((UDP_IP_ADDRESS, UDP_PORT_NO))\n",
    "\n",
    "\n",
    "#to write the code that will send our UDP message (turn on)\n",
    "#s = clientSock.sendto(Message, (UDP_IP_ADDRESS, UDP_PORT_NO))\n",
    "#x = clientSock.recvmsg(1000)\n",
    "\n",
    "while True:\n",
    "    data, addr = clientSock.recvfrom(1024) # buffer size is 1024 bytes\n",
    "    print(\"received message:\", data)\n",
    "#time.sleep(5)# number of seconds\n",
    "\n",
    "#to write the code that will send our UDP message (turn off)\n",
    "#clientSock.sendto(Message, (UDP_IP_ADDRESS, UDP_PORT_NO))"
   ]
  },
  {
   "cell_type": "markdown",
   "metadata": {},
   "source": [
    "# Write a file to DX100 robot"
   ]
  },
  {
   "cell_type": "code",
   "execution_count": null,
   "metadata": {},
   "outputs": [],
   "source": [
    "import socket\n",
    "UDP_IP_ADDRESS = '192.168.0.151'\n",
    "UDP_PORT_NO = 10040\n",
    "\n"
   ]
  },
  {
   "cell_type": "markdown",
   "metadata": {},
   "source": [
    "# Reading a file from my own IP address"
   ]
  },
  {
   "cell_type": "code",
   "execution_count": 4,
   "metadata": {},
   "outputs": [
    {
     "name": "stdout",
     "output_type": "stream",
     "text": [
      "received message: 594552432000040003010001000000003939393939393939830002000110000001000000\n",
      "b'YERC \\x00\\x04\\x00\\x03\\x01\\x00\\x01\\x00\\x00\\x00\\x0099999999\\x83\\x00\\x02\\x00\\x01\\x10\\x00\\x00\\x01\\x00\\x00\\x00'\n",
      "received message: 5945524320006800030100020000000039393939393939398a0002000102000001000000000000000200000064000000120000004ea40700acdf06003c29fdff0000000000000000a0bb0d00000000000000000004000000000000000000000002000000000000000000000000000000000000000000000000000000000000000000000000000000\n",
      "b'YERC \\x00h\\x00\\x03\\x01\\x00\\x02\\x00\\x00\\x00\\x0099999999\\x8a\\x00\\x02\\x00\\x01\\x02\\x00\\x00\\x01\\x00\\x00\\x00\\x00\\x00\\x00\\x00\\x02\\x00\\x00\\x00d\\x00\\x00\\x00\\x12\\x00\\x00\\x00N\\xa4\\x07\\x00\\xac\\xdf\\x06\\x00<)\\xfd\\xff\\x00\\x00\\x00\\x00\\x00\\x00\\x00\\x00\\xa0\\xbb\\r\\x00\\x00\\x00\\x00\\x00\\x00\\x00\\x00\\x00\\x04\\x00\\x00\\x00\\x00\\x00\\x00\\x00\\x00\\x00\\x00\\x00\\x02\\x00\\x00\\x00\\x00\\x00\\x00\\x00\\x00\\x00\\x00\\x00\\x00\\x00\\x00\\x00\\x00\\x00\\x00\\x00\\x00\\x00\\x00\\x00\\x00\\x00\\x00\\x00\\x00\\x00\\x00\\x00\\x00\\x00\\x00\\x00\\x00\\x00\\x00\\x00'\n",
      "received message: 5945524320002400030100030000000039393939393939398700010000020000475249504f50454e4f000000000000000000000000000000000000000000000000000000\n",
      "b'YERC \\x00$\\x00\\x03\\x01\\x00\\x03\\x00\\x00\\x00\\x0099999999\\x87\\x00\\x01\\x00\\x00\\x02\\x00\\x00GRIPOPENO\\x00\\x00\\x00\\x00\\x00\\x00\\x00\\x00\\x00\\x00\\x00\\x00\\x00\\x00\\x00\\x00\\x00\\x00\\x00\\x00\\x00\\x00\\x00\\x00\\x00\\x00\\x00'\n",
      "received message: 594552432000040003010004000000003939393939393939860001000110000001000000\n",
      "b'YERC \\x00\\x04\\x00\\x03\\x01\\x00\\x04\\x00\\x00\\x00\\x0099999999\\x86\\x00\\x01\\x00\\x01\\x10\\x00\\x00\\x01\\x00\\x00\\x00'\n",
      "received message: 5945524320006800030100020000000039393939393939398a0002000102000001000000000000000100000096000000120000004ea40700acdf060064c3feff0000000000000000a0bb0d00000000000000000004000000000000000000000002000000000000000000000000000000000000000000000000000000000000000000000000000000\n",
      "b'YERC \\x00h\\x00\\x03\\x01\\x00\\x02\\x00\\x00\\x00\\x0099999999\\x8a\\x00\\x02\\x00\\x01\\x02\\x00\\x00\\x01\\x00\\x00\\x00\\x00\\x00\\x00\\x00\\x01\\x00\\x00\\x00\\x96\\x00\\x00\\x00\\x12\\x00\\x00\\x00N\\xa4\\x07\\x00\\xac\\xdf\\x06\\x00d\\xc3\\xfe\\xff\\x00\\x00\\x00\\x00\\x00\\x00\\x00\\x00\\xa0\\xbb\\r\\x00\\x00\\x00\\x00\\x00\\x00\\x00\\x00\\x00\\x04\\x00\\x00\\x00\\x00\\x00\\x00\\x00\\x00\\x00\\x00\\x00\\x02\\x00\\x00\\x00\\x00\\x00\\x00\\x00\\x00\\x00\\x00\\x00\\x00\\x00\\x00\\x00\\x00\\x00\\x00\\x00\\x00\\x00\\x00\\x00\\x00\\x00\\x00\\x00\\x00\\x00\\x00\\x00\\x00\\x00\\x00\\x00\\x00\\x00\\x00\\x00'\n",
      "received message: 5945524320002400030100030000000039393939393939398700010000020000475249504f50454e00000000000000000000000000000000000000000000000000000000\n",
      "b'YERC \\x00$\\x00\\x03\\x01\\x00\\x03\\x00\\x00\\x00\\x0099999999\\x87\\x00\\x01\\x00\\x00\\x02\\x00\\x00GRIPOPEN\\x00\\x00\\x00\\x00\\x00\\x00\\x00\\x00\\x00\\x00\\x00\\x00\\x00\\x00\\x00\\x00\\x00\\x00\\x00\\x00\\x00\\x00\\x00\\x00\\x00\\x00\\x00\\x00'\n",
      "received message: 594552432000040003010004000000003939393939393939860001000110000001000000\n",
      "b'YERC \\x00\\x04\\x00\\x03\\x01\\x00\\x04\\x00\\x00\\x00\\x0099999999\\x86\\x00\\x01\\x00\\x01\\x10\\x00\\x00\\x01\\x00\\x00\\x00'\n",
      "received message: 5945524320006800030100020000000039393939393939398a0002000102000001000000000000000100000096000000120000004ea40700acdf06003c29fdff0000000000000000a0bb0d00000000000000000004000000000000000000000002000000000000000000000000000000000000000000000000000000000000000000000000000000\n",
      "b'YERC \\x00h\\x00\\x03\\x01\\x00\\x02\\x00\\x00\\x00\\x0099999999\\x8a\\x00\\x02\\x00\\x01\\x02\\x00\\x00\\x01\\x00\\x00\\x00\\x00\\x00\\x00\\x00\\x01\\x00\\x00\\x00\\x96\\x00\\x00\\x00\\x12\\x00\\x00\\x00N\\xa4\\x07\\x00\\xac\\xdf\\x06\\x00<)\\xfd\\xff\\x00\\x00\\x00\\x00\\x00\\x00\\x00\\x00\\xa0\\xbb\\r\\x00\\x00\\x00\\x00\\x00\\x00\\x00\\x00\\x00\\x04\\x00\\x00\\x00\\x00\\x00\\x00\\x00\\x00\\x00\\x00\\x00\\x02\\x00\\x00\\x00\\x00\\x00\\x00\\x00\\x00\\x00\\x00\\x00\\x00\\x00\\x00\\x00\\x00\\x00\\x00\\x00\\x00\\x00\\x00\\x00\\x00\\x00\\x00\\x00\\x00\\x00\\x00\\x00\\x00\\x00\\x00\\x00\\x00\\x00\\x00\\x00'\n",
      "received message: 5945524320006800030100020000000039393939393939398a000200010200000100000000000000020000003c000000120000007cf20c005d8e0500eb29fcff0000000000000000a0bb0d00000000000000000004000000000000000000000002000000000000000000000000000000000000000000000000000000000000000000000000000000\n",
      "b'YERC \\x00h\\x00\\x03\\x01\\x00\\x02\\x00\\x00\\x00\\x0099999999\\x8a\\x00\\x02\\x00\\x01\\x02\\x00\\x00\\x01\\x00\\x00\\x00\\x00\\x00\\x00\\x00\\x02\\x00\\x00\\x00<\\x00\\x00\\x00\\x12\\x00\\x00\\x00|\\xf2\\x0c\\x00]\\x8e\\x05\\x00\\xeb)\\xfc\\xff\\x00\\x00\\x00\\x00\\x00\\x00\\x00\\x00\\xa0\\xbb\\r\\x00\\x00\\x00\\x00\\x00\\x00\\x00\\x00\\x00\\x04\\x00\\x00\\x00\\x00\\x00\\x00\\x00\\x00\\x00\\x00\\x00\\x02\\x00\\x00\\x00\\x00\\x00\\x00\\x00\\x00\\x00\\x00\\x00\\x00\\x00\\x00\\x00\\x00\\x00\\x00\\x00\\x00\\x00\\x00\\x00\\x00\\x00\\x00\\x00\\x00\\x00\\x00\\x00\\x00\\x00\\x00\\x00\\x00\\x00\\x00\\x00'\n",
      "received message: 5945524320006800030100020000000039393939393939398a00020001020000010000000000000001000000960000001200000087f20c00588e05008bb0fdff0000000000000000a0bb0d00000000000000000004000000000000000000000002000000000000000000000000000000000000000000000000000000000000000000000000000000\n",
      "b'YERC \\x00h\\x00\\x03\\x01\\x00\\x02\\x00\\x00\\x00\\x0099999999\\x8a\\x00\\x02\\x00\\x01\\x02\\x00\\x00\\x01\\x00\\x00\\x00\\x00\\x00\\x00\\x00\\x01\\x00\\x00\\x00\\x96\\x00\\x00\\x00\\x12\\x00\\x00\\x00\\x87\\xf2\\x0c\\x00X\\x8e\\x05\\x00\\x8b\\xb0\\xfd\\xff\\x00\\x00\\x00\\x00\\x00\\x00\\x00\\x00\\xa0\\xbb\\r\\x00\\x00\\x00\\x00\\x00\\x00\\x00\\x00\\x00\\x04\\x00\\x00\\x00\\x00\\x00\\x00\\x00\\x00\\x00\\x00\\x00\\x02\\x00\\x00\\x00\\x00\\x00\\x00\\x00\\x00\\x00\\x00\\x00\\x00\\x00\\x00\\x00\\x00\\x00\\x00\\x00\\x00\\x00\\x00\\x00\\x00\\x00\\x00\\x00\\x00\\x00\\x00\\x00\\x00\\x00\\x00\\x00\\x00\\x00\\x00\\x00'\n",
      "received message: 5945524320002400030100030000000039393939393939398700010000020000475249504f50454e4f000000000000000000000000000000000000000000000000000000\n",
      "b'YERC \\x00$\\x00\\x03\\x01\\x00\\x03\\x00\\x00\\x00\\x0099999999\\x87\\x00\\x01\\x00\\x00\\x02\\x00\\x00GRIPOPENO\\x00\\x00\\x00\\x00\\x00\\x00\\x00\\x00\\x00\\x00\\x00\\x00\\x00\\x00\\x00\\x00\\x00\\x00\\x00\\x00\\x00\\x00\\x00\\x00\\x00\\x00\\x00'\n",
      "received message: 594552432000040003010004000000003939393939393939860001000110000001000000\n",
      "b'YERC \\x00\\x04\\x00\\x03\\x01\\x00\\x04\\x00\\x00\\x00\\x0099999999\\x86\\x00\\x01\\x00\\x01\\x10\\x00\\x00\\x01\\x00\\x00\\x00'\n",
      "received message: 5945524320006800030100020000000039393939393939398a0002000102000001000000000000000100000096000000120000007cf20c005d8e0500eb29fcff0000000000000000a0bb0d00000000000000000004000000000000000000000002000000000000000000000000000000000000000000000000000000000000000000000000000000\n",
      "b'YERC \\x00h\\x00\\x03\\x01\\x00\\x02\\x00\\x00\\x00\\x0099999999\\x8a\\x00\\x02\\x00\\x01\\x02\\x00\\x00\\x01\\x00\\x00\\x00\\x00\\x00\\x00\\x00\\x01\\x00\\x00\\x00\\x96\\x00\\x00\\x00\\x12\\x00\\x00\\x00|\\xf2\\x0c\\x00]\\x8e\\x05\\x00\\xeb)\\xfc\\xff\\x00\\x00\\x00\\x00\\x00\\x00\\x00\\x00\\xa0\\xbb\\r\\x00\\x00\\x00\\x00\\x00\\x00\\x00\\x00\\x00\\x04\\x00\\x00\\x00\\x00\\x00\\x00\\x00\\x00\\x00\\x00\\x00\\x02\\x00\\x00\\x00\\x00\\x00\\x00\\x00\\x00\\x00\\x00\\x00\\x00\\x00\\x00\\x00\\x00\\x00\\x00\\x00\\x00\\x00\\x00\\x00\\x00\\x00\\x00\\x00\\x00\\x00\\x00\\x00\\x00\\x00\\x00\\x00\\x00\\x00\\x00\\x00'\n",
      "received message: 594552432000040003010001000000003939393939393939830002000110000002000000\n",
      "b'YERC \\x00\\x04\\x00\\x03\\x01\\x00\\x01\\x00\\x00\\x00\\x0099999999\\x83\\x00\\x02\\x00\\x01\\x10\\x00\\x00\\x02\\x00\\x00\\x00'\n"
     ]
    },
    {
     "ename": "KeyboardInterrupt",
     "evalue": "",
     "output_type": "error",
     "traceback": [
      "\u001b[0;31m---------------------------------------------------------------------------\u001b[0m",
      "\u001b[0;31mKeyboardInterrupt\u001b[0m                         Traceback (most recent call last)",
      "\u001b[0;32m<ipython-input-4-8abb5e859835>\u001b[0m in \u001b[0;36m<module>\u001b[0;34m()\u001b[0m\n\u001b[1;32m     10\u001b[0m \u001b[0;34m\u001b[0m\u001b[0m\n\u001b[1;32m     11\u001b[0m \u001b[0;32mwhile\u001b[0m \u001b[0;32mTrue\u001b[0m\u001b[0;34m:\u001b[0m\u001b[0;34m\u001b[0m\u001b[0m\n\u001b[0;32m---> 12\u001b[0;31m     \u001b[0mdata\u001b[0m\u001b[0;34m,\u001b[0m \u001b[0maddr\u001b[0m \u001b[0;34m=\u001b[0m \u001b[0msock\u001b[0m\u001b[0;34m.\u001b[0m\u001b[0mrecvfrom\u001b[0m\u001b[0;34m(\u001b[0m\u001b[0;36m2048\u001b[0m\u001b[0;34m)\u001b[0m \u001b[0;31m# buffer size is 1024 bytes\u001b[0m\u001b[0;34m\u001b[0m\u001b[0m\n\u001b[0m\u001b[1;32m     13\u001b[0m     \u001b[0mprint\u001b[0m\u001b[0;34m(\u001b[0m\u001b[0;34m\"received message: \"\u001b[0m \u001b[0;34m+\u001b[0m \u001b[0mdata\u001b[0m\u001b[0;34m.\u001b[0m\u001b[0mhex\u001b[0m\u001b[0;34m(\u001b[0m\u001b[0;34m)\u001b[0m\u001b[0;34m)\u001b[0m\u001b[0;34m\u001b[0m\u001b[0m\n\u001b[1;32m     14\u001b[0m     \u001b[0mprint\u001b[0m\u001b[0;34m(\u001b[0m\u001b[0mstr\u001b[0m\u001b[0;34m(\u001b[0m\u001b[0mdata\u001b[0m\u001b[0;34m)\u001b[0m\u001b[0;34m)\u001b[0m\u001b[0;34m\u001b[0m\u001b[0m\n",
      "\u001b[0;31mKeyboardInterrupt\u001b[0m: "
     ]
    }
   ],
   "source": [
    "import socket\n",
    "\n",
    "UDP_IP = \"192.168.0.102\"\n",
    "UDP_PORT = 10040\n",
    "\n",
    "sock = socket.socket(socket.AF_INET, # Internet\n",
    "                     socket.SOCK_DGRAM) # UDP\n",
    "\n",
    "sock.bind((UDP_IP, UDP_PORT))\n",
    "\n",
    "while True:\n",
    "    data, addr = sock.recvfrom(2048) # buffer size is 1024 bytes\n",
    "    print(\"received message: \" + data.hex())\n",
    "    print(str(data))"
   ]
  },
  {
   "cell_type": "code",
   "execution_count": 15,
   "metadata": {},
   "outputs": [
    {
     "name": "stdout",
     "output_type": "stream",
     "text": [
      "None\n",
      "[b'Y', b'E', b'R', b'C', b' ', b'\\x00', b'\\x04', b'\\x00', b'\\x03', b'\\x01', b'\\x00', b'\\x01', b'\\x00', b'\\x00', b'\\x00']\n",
      "45\n",
      "b'YERC \\x00\\x04\\x00\\x03\\x01\\x00\\x01\\x00\\x00\\x00'\n",
      "[b'YERC \\x00\\x04\\x00\\x03\\x01\\x00\\x01\\x00\\x00\\x00Y', b'YERC \\x00\\x04\\x00\\x03\\x01\\x00\\x01\\x00\\x00\\x00E', b'YERC \\x00\\x04\\x00\\x03\\x01\\x00\\x01\\x00\\x00\\x00R', b'YERC \\x00\\x04\\x00\\x03\\x01\\x00\\x01\\x00\\x00\\x00C', b'YERC \\x00\\x04\\x00\\x03\\x01\\x00\\x01\\x00\\x00\\x00 ', b'YERC \\x00\\x04\\x00\\x03\\x01\\x00\\x01\\x00\\x00\\x00\\x00', b'YERC \\x00\\x04\\x00\\x03\\x01\\x00\\x01\\x00\\x00\\x00\\x04', b'YERC \\x00\\x04\\x00\\x03\\x01\\x00\\x01\\x00\\x00\\x00\\x00', b'YERC \\x00\\x04\\x00\\x03\\x01\\x00\\x01\\x00\\x00\\x00\\x03', b'YERC \\x00\\x04\\x00\\x03\\x01\\x00\\x01\\x00\\x00\\x00\\x01', b'YERC \\x00\\x04\\x00\\x03\\x01\\x00\\x01\\x00\\x00\\x00\\x00', b'YERC \\x00\\x04\\x00\\x03\\x01\\x00\\x01\\x00\\x00\\x00\\x01', b'YERC \\x00\\x04\\x00\\x03\\x01\\x00\\x01\\x00\\x00\\x00\\x00', b'YERC \\x00\\x04\\x00\\x03\\x01\\x00\\x01\\x00\\x00\\x00\\x00', b'YERC \\x00\\x04\\x00\\x03\\x01\\x00\\x01\\x00\\x00\\x00\\x00']\n",
      "['59', '45', '52', '43', '20', '00', '04', '00', '03', '01', '00', '01', '00', '00', '00']\n",
      "<class 'list'>\n",
      "<class 'str'>\n",
      "<class 'list'>\n",
      "<class 'int'>\n"
     ]
    }
   ],
   "source": [
    "\n",
    "x = [89, 69, 82, 67, 32, 0, 4, 0, 3, 1, 0]\n",
    "\n",
    "y = [1, 0, 0, 0]\n",
    "\n",
    "var = x\n",
    "var1 = var.extend(y)\n",
    "print(var1)\n",
    "abyte = [ i.to_bytes(1, 'big') for i in x]\n",
    "\n",
    "print(abyte)\n",
    "\n",
    "print(abyte[1].hex())\n",
    "\n",
    "\n",
    "byte = abyte[0]\n",
    "for i in range(len(abyte)-1):\n",
    "    byte = byte + abyte[i+1]\n",
    "\n",
    "print(byte)\n",
    "\n",
    "byte = [(byte + i) for i in abyte]\n",
    "print(byte)\n",
    "\n",
    "ahex = [ i.hex() for i in abyte]\n",
    "\n",
    "print(ahex)\n",
    "\n",
    "print(type(ahex))\n",
    "\n",
    "print(type(ahex[1]))\n",
    "\n",
    "\n",
    "\n",
    "print(type(x))\n",
    "\n",
    "print(type(x[1]))"
   ]
  },
  {
   "cell_type": "code",
   "execution_count": null,
   "metadata": {},
   "outputs": [],
   "source": [
    "clientSock.close()"
   ]
  },
  {
   "cell_type": "code",
   "execution_count": null,
   "metadata": {},
   "outputs": [],
   "source": [
    "\n",
    "#to write the code that will send our UDP message (turn on)\n",
    "clientSock.sendto(servo_motor(1), (UDP_IP_ADDRESS, UDP_PORT_NO))\n",
    "\n",
    "\n",
    "time.sleep(5)# number of seconds\n",
    "\n",
    "#to write the code that will send our UDP message (turn off)\n",
    "clientSock.sendto(servo_motor(0), (UDP_IP_ADDRESS, UDP_PORT_NO))\n",
    "\n",
    "\n"
   ]
  },
  {
   "cell_type": "code",
   "execution_count": null,
   "metadata": {},
   "outputs": [],
   "source": [
    "\n",
    "socket.SocketKind"
   ]
  },
  {
   "cell_type": "code",
   "execution_count": null,
   "metadata": {},
   "outputs": [],
   "source": [
    "socket.gethostname()"
   ]
  },
  {
   "cell_type": "code",
   "execution_count": null,
   "metadata": {},
   "outputs": [],
   "source": [
    "socket.getservbyname()"
   ]
  },
  {
   "cell_type": "code",
   "execution_count": null,
   "metadata": {},
   "outputs": [],
   "source": []
  }
 ],
 "metadata": {
  "kernelspec": {
   "display_name": "Python 3",
   "language": "python",
   "name": "python3"
  },
  "language_info": {
   "codemirror_mode": {
    "name": "ipython",
    "version": 3
   },
   "file_extension": ".py",
   "mimetype": "text/x-python",
   "name": "python",
   "nbconvert_exporter": "python",
   "pygments_lexer": "ipython3",
   "version": "3.6.5"
  }
 },
 "nbformat": 4,
 "nbformat_minor": 2
}
