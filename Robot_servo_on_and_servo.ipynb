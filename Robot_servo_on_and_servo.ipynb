{
 "cells": [
  {
   "cell_type": "code",
   "execution_count": 23,
   "metadata": {},
   "outputs": [],
   "source": [
    "import numpy as np\n"
   ]
  },
  {
   "cell_type": "code",
   "execution_count": 25,
   "metadata": {},
   "outputs": [
    {
     "ename": "NameError",
     "evalue": "name 'hex2dec' is not defined",
     "output_type": "error",
     "traceback": [
      "\u001b[0;31m---------------------------------------------------------------------------\u001b[0m",
      "\u001b[0;31mNameError\u001b[0m                                 Traceback (most recent call last)",
      "\u001b[0;32m<ipython-input-25-ec117bd1623c>\u001b[0m in \u001b[0;36m<module>\u001b[0;34m()\u001b[0m\n\u001b[1;32m      2\u001b[0m \u001b[0;34m\u001b[0m\u001b[0m\n\u001b[1;32m      3\u001b[0m \u001b[0mreqid\u001b[0m\u001b[0;34m=\u001b[0m\u001b[0;36m1\u001b[0m\u001b[0;34m\u001b[0m\u001b[0m\n\u001b[0;32m----> 4\u001b[0;31m \u001b[0mcdno\u001b[0m\u001b[0;34m=\u001b[0m\u001b[0mhex2dec\u001b[0m\u001b[0;34m(\u001b[0m\u001b[0;34m'83'\u001b[0m\u001b[0;34m)\u001b[0m\u001b[0;34m\u001b[0m\u001b[0m\n\u001b[0m\u001b[1;32m      5\u001b[0m \u001b[0minst\u001b[0m\u001b[0;34m=\u001b[0m\u001b[0;36m2\u001b[0m\u001b[0;34m\u001b[0m\u001b[0m\n\u001b[1;32m      6\u001b[0m \u001b[0matt\u001b[0m\u001b[0;34m=\u001b[0m\u001b[0;36m1\u001b[0m\u001b[0;34m\u001b[0m\u001b[0m\n",
      "\u001b[0;31mNameError\u001b[0m: name 'hex2dec' is not defined"
     ]
    }
   ],
   "source": [
    "## Defining protocol data for Servo turn on/off\n",
    "\n",
    "reqid=1\n",
    "cdno=hex2dec('83')\n",
    "inst=2\n",
    "att=1\n",
    "ser=hex2dec('10');\n",
    "dataon=[1, 0, 0, 0];\n",
    "dataoff=[2, 0, 0, 0];\n",
    "dataservoon=[89, 69, 82, 67, 32, 0, 4, 0, 3, 1, 0, reqid, 0, 0, 0, 0, 57, 57, 57, 57, 57, 57, 57, 57, cdno, 0, inst, 0, att, ser, 0, 0, dataon];\n",
    "dataservooff=[89, 69, 82, 67, 32, 0, 4, 0, 3, 1, 0, reqid, 0, 0, 0, 0, 57, 57, 57, 57, 57, 57, 57, 57, cdno, 0, inst, 0, att, ser, 0, 0, dataoff];"
   ]
  },
  {
   "cell_type": "code",
   "execution_count": 12,
   "metadata": {},
   "outputs": [
    {
     "data": {
      "text/plain": [
       "array([1, 2, 3, 4, 2, 3, 4, 5])"
      ]
     },
     "execution_count": 12,
     "metadata": {},
     "output_type": "execute_result"
    }
   ],
   "source": [
    "a = np.array([1, 2, 3, 4])\n",
    "b = np.array([2, 3, 4, 5])\n",
    "np.concatenate((a,b), axis=0)\n",
    "np.hstack((a,b))"
   ]
  },
  {
   "cell_type": "code",
   "execution_count": 26,
   "metadata": {},
   "outputs": [
    {
     "data": {
      "text/plain": [
       "83"
      ]
     },
     "execution_count": 26,
     "metadata": {},
     "output_type": "execute_result"
    }
   ],
   "source": [
    "cdno=int('83')\n",
    "cdno"
   ]
  },
  {
   "cell_type": "code",
   "execution_count": 31,
   "metadata": {},
   "outputs": [
    {
     "data": {
      "text/plain": [
       "array([ 1,  2,  3,  4, 83,  2,  3,  4,  5, 25, 33])"
      ]
     },
     "execution_count": 31,
     "metadata": {},
     "output_type": "execute_result"
    }
   ],
   "source": [
    "np.hstack((a,cdno,b,25,33))"
   ]
  },
  {
   "cell_type": "code",
   "execution_count": 26,
   "metadata": {},
   "outputs": [],
   "source": [
    "import numpy as np\n",
    "\n",
    "\n",
    "#servo on or off\n",
    "def servo_motor(a):\n",
    "    reqid=1\n",
    "    cdno=int('83')\n",
    "    inst=2\n",
    "    att=1\n",
    "    ser=int('10')\n",
    "    dataon = np.array([1, 0, 0, 0])\n",
    "    dataoff = np.array([2, 0, 0, 0])\n",
    "    dataservoon = np.hstack((89, 69, 82, 67, 32, 0, 4, 0, 3, 1, 0, reqid, 0, 0, 0, 0, 57, 57, 57, 57, 57, 57, 57, 57, cdno, 0, inst, 0, att, ser, 0, 0, dataon))\n",
    "    dataservooff = np.hstack((89, 69, 82, 67, 32, 0, 4, 0, 3, 1, 0, reqid, 0, 0, 0, 0, 57, 57, 57, 57, 57, 57, 57, 57, cdno, 0, inst, 0, att, ser, 0, 0, dataoff))\n",
    "    if a == True:\n",
    "        return dataservoon\n",
    "    else:\n",
    "        return dataservooff\n",
    "    \n",
    "#type of input givent to the code is 'a' which is a boolean varaible"
   ]
  },
  {
   "cell_type": "code",
   "execution_count": 42,
   "metadata": {},
   "outputs": [
    {
     "data": {
      "text/plain": [
       "array([89, 69, 82, 67, 32,  0,  4,  0,  3,  1,  0,  1,  0,  0,  0,  0, 57,\n",
       "       57, 57, 57, 57, 57, 57, 57, 83,  0,  2,  0,  1, 10,  0,  0,  1,  0,\n",
       "        0,  0])"
      ]
     },
     "execution_count": 42,
     "metadata": {},
     "output_type": "execute_result"
    }
   ],
   "source": [
    "x = servo_motor(1)\n",
    "x"
   ]
  },
  {
   "cell_type": "code",
   "execution_count": 46,
   "metadata": {},
   "outputs": [
    {
     "name": "stdout",
     "output_type": "stream",
     "text": [
      "(b'YERC \\x00\\x00\\x00E\\x00\\x01\\x00\\x00\\x00\\x00\\x80R\\x00\\x00\\x00\\x00\\x00\\x00\\x00\\x80\\x1f\\x01\\x00\\xa7\\xe4\\x00\\x00', [], 0, ('192.168.255.1', 10040))\n"
     ]
    }
   ],
   "source": [
    "import socket\n",
    "UDP_IP_ADDRESS = '192.168.255.1'\n",
    "UDP_PORT_NO = 10040\n",
    "Message = \"Hello, Server\"\n",
    "\n",
    "\n",
    "import time\n",
    "\n",
    "#to create the socket through which we will be sending our UDP message to the server\n",
    "clientSock = socket.socket(socket.AF_INET, socket.SOCK_DGRAM)\n",
    "\n",
    "#clientSock.connect((UDP_IP_ADDRESS, UDP_PORT_NO))\n",
    "\n",
    "\n",
    "#to write the code that will send our UDP message (turn on)\n",
    "s = clientSock.sendto(servo_motor(1), (UDP_IP_ADDRESS, UDP_PORT_NO))\n",
    "x = clientSock.recvmsg(1000)\n",
    "\n",
    "time.sleep(5)# number of seconds\n",
    "\n",
    "#to write the code that will send our UDP message (turn off)\n",
    "clientSock.sendto(servo_motor(0), (UDP_IP_ADDRESS, UDP_PORT_NO))\n",
    "print(x)"
   ]
  },
  {
   "cell_type": "code",
   "execution_count": 69,
   "metadata": {},
   "outputs": [
    {
     "ename": "SyntaxError",
     "evalue": "invalid syntax (<ipython-input-69-8e221d78f5b2>, line 1)",
     "output_type": "error",
     "traceback": [
      "\u001b[0;36m  File \u001b[0;32m\"<ipython-input-69-8e221d78f5b2>\"\u001b[0;36m, line \u001b[0;32m1\u001b[0m\n\u001b[0;31m    np.str(x)x[0]\u001b[0m\n\u001b[0m             ^\u001b[0m\n\u001b[0;31mSyntaxError\u001b[0m\u001b[0;31m:\u001b[0m invalid syntax\n"
     ]
    }
   ],
   "source": [
    "np.str(x)\n",
    "x[0]"
   ]
  },
  {
   "cell_type": "code",
   "execution_count": 47,
   "metadata": {},
   "outputs": [],
   "source": [
    "clientSock.close()"
   ]
  },
  {
   "cell_type": "code",
   "execution_count": 9,
   "metadata": {},
   "outputs": [
    {
     "ename": "OSError",
     "evalue": "[Errno 9] Bad file descriptor",
     "output_type": "error",
     "traceback": [
      "\u001b[0;31m---------------------------------------------------------------------------\u001b[0m",
      "\u001b[0;31mOSError\u001b[0m                                   Traceback (most recent call last)",
      "\u001b[0;32m<ipython-input-9-f1894eb81d9a>\u001b[0m in \u001b[0;36m<module>\u001b[0;34m()\u001b[0m\n\u001b[1;32m      1\u001b[0m \u001b[0;34m\u001b[0m\u001b[0m\n\u001b[1;32m      2\u001b[0m \u001b[0;31m#to write the code that will send our UDP message (turn on)\u001b[0m\u001b[0;34m\u001b[0m\u001b[0;34m\u001b[0m\u001b[0m\n\u001b[0;32m----> 3\u001b[0;31m \u001b[0mclientSock\u001b[0m\u001b[0;34m.\u001b[0m\u001b[0msendto\u001b[0m\u001b[0;34m(\u001b[0m\u001b[0mservo_motor\u001b[0m\u001b[0;34m(\u001b[0m\u001b[0;36m1\u001b[0m\u001b[0;34m)\u001b[0m\u001b[0;34m,\u001b[0m \u001b[0;34m(\u001b[0m\u001b[0mUDP_IP_ADDRESS\u001b[0m\u001b[0;34m,\u001b[0m \u001b[0mUDP_PORT_NO\u001b[0m\u001b[0;34m)\u001b[0m\u001b[0;34m)\u001b[0m\u001b[0;34m\u001b[0m\u001b[0m\n\u001b[0m\u001b[1;32m      4\u001b[0m \u001b[0;34m\u001b[0m\u001b[0m\n\u001b[1;32m      5\u001b[0m \u001b[0;34m\u001b[0m\u001b[0m\n",
      "\u001b[0;31mOSError\u001b[0m: [Errno 9] Bad file descriptor"
     ]
    }
   ],
   "source": [
    "\n",
    "#to write the code that will send our UDP message (turn on)\n",
    "clientSock.sendto(servo_motor(1), (UDP_IP_ADDRESS, UDP_PORT_NO))\n",
    "\n",
    "\n",
    "time.sleep(5)# number of seconds\n",
    "\n",
    "#to write the code that will send our UDP message (turn off)\n",
    "clientSock.sendto(servo_motor(0), (UDP_IP_ADDRESS, UDP_PORT_NO))\n",
    "\n",
    "\n"
   ]
  },
  {
   "cell_type": "code",
   "execution_count": 7,
   "metadata": {},
   "outputs": [
    {
     "data": {
      "text/plain": [
       "<enum 'SocketKind'>"
      ]
     },
     "execution_count": 7,
     "metadata": {},
     "output_type": "execute_result"
    }
   ],
   "source": [
    "\n",
    "socket.SocketKind"
   ]
  },
  {
   "cell_type": "code",
   "execution_count": 11,
   "metadata": {},
   "outputs": [
    {
     "data": {
      "text/plain": [
       "'agenthimzz-891.local'"
      ]
     },
     "execution_count": 11,
     "metadata": {},
     "output_type": "execute_result"
    }
   ],
   "source": [
    "socket.gethostname()"
   ]
  },
  {
   "cell_type": "code",
   "execution_count": 12,
   "metadata": {},
   "outputs": [
    {
     "ename": "TypeError",
     "evalue": "getservbyname() takes at least 1 argument (0 given)",
     "output_type": "error",
     "traceback": [
      "\u001b[0;31m---------------------------------------------------------------------------\u001b[0m",
      "\u001b[0;31mTypeError\u001b[0m                                 Traceback (most recent call last)",
      "\u001b[0;32m<ipython-input-12-cd5cf83d5898>\u001b[0m in \u001b[0;36m<module>\u001b[0;34m()\u001b[0m\n\u001b[0;32m----> 1\u001b[0;31m \u001b[0msocket\u001b[0m\u001b[0;34m.\u001b[0m\u001b[0mgetservbyname\u001b[0m\u001b[0;34m(\u001b[0m\u001b[0;34m)\u001b[0m\u001b[0;34m\u001b[0m\u001b[0m\n\u001b[0m",
      "\u001b[0;31mTypeError\u001b[0m: getservbyname() takes at least 1 argument (0 given)"
     ]
    }
   ],
   "source": [
    "socket.getservbyname()"
   ]
  },
  {
   "cell_type": "code",
   "execution_count": null,
   "metadata": {},
   "outputs": [],
   "source": []
  }
 ],
 "metadata": {
  "kernelspec": {
   "display_name": "Python 3",
   "language": "python",
   "name": "python3"
  },
  "language_info": {
   "codemirror_mode": {
    "name": "ipython",
    "version": 3
   },
   "file_extension": ".py",
   "mimetype": "text/x-python",
   "name": "python",
   "nbconvert_exporter": "python",
   "pygments_lexer": "ipython3",
   "version": "3.6.5"
  }
 },
 "nbformat": 4,
 "nbformat_minor": 2
}
