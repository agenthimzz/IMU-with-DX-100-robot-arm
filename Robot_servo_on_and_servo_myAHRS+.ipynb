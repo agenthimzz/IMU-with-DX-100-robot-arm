{
 "cells": [
  {
   "cell_type": "code",
   "execution_count": 5,
   "metadata": {},
   "outputs": [],
   "source": [
    "import numpy as np\n",
    "import pandas as pd\n"
   ]
  },
  {
   "cell_type": "code",
   "execution_count": null,
   "metadata": {},
   "outputs": [],
   "source": [
    "## Defining protocol data for Servo turn on/off\n",
    "\n",
    "reqid=1\n",
    "cdno=hex2dec('83')\n",
    "inst=2\n",
    "att=1\n",
    "ser=hex2dec('10');\n",
    "dataon=[01, 00, 0, 0];\n",
    "dataoff=[02, 00, 0, 0];\n",
    "dataservoon=[89, 69, 82, 67, 32, 0, 4, 0, 3, 1, 0, reqid, 0, 0, 0, 0, 57, 57, 57, 57, 57, 57, 57, 57, cdno, 0, inst, 0, att, ser, 0, 0, dataon];\n",
    "dataservooff=[89, 69, 82, 67, 32, 0, 4, 0, 3, 1, 0, reqid, 0, 0, 0, 0, 57, 57, 57, 57, 57, 57, 57, 57, cdno, 0, inst, 0, att, ser, 0, 0, dataoff];"
   ]
  },
  {
   "cell_type": "code",
   "execution_count": 12,
   "metadata": {},
   "outputs": [
    {
     "data": {
      "text/plain": [
       "array([1, 2, 3, 4, 2, 3, 4, 5])"
      ]
     },
     "execution_count": 12,
     "metadata": {},
     "output_type": "execute_result"
    }
   ],
   "source": [
    "a = np.array([1, 2, 3, 4])\n",
    "b = np.array([2, 3, 4, 5])\n",
    "np.concatenate((a,b), axis=0)\n",
    "np.hstack((a,b))"
   ]
  },
  {
   "cell_type": "code",
   "execution_count": 26,
   "metadata": {},
   "outputs": [
    {
     "data": {
      "text/plain": [
       "83"
      ]
     },
     "execution_count": 26,
     "metadata": {},
     "output_type": "execute_result"
    }
   ],
   "source": [
    "cdno=int('83')\n",
    "cdno"
   ]
  },
  {
   "cell_type": "code",
   "execution_count": 31,
   "metadata": {},
   "outputs": [
    {
     "data": {
      "text/plain": [
       "array([ 1,  2,  3,  4, 83,  2,  3,  4,  5, 25, 33])"
      ]
     },
     "execution_count": 31,
     "metadata": {},
     "output_type": "execute_result"
    }
   ],
   "source": [
    "np.hstack((a,cdno,b,25,33))"
   ]
  },
  {
   "cell_type": "code",
   "execution_count": 39,
   "metadata": {},
   "outputs": [],
   "source": [
    "#servo on or off\n",
    "def servo_motor(a):\n",
    "    reqid=1\n",
    "    cdno=int('83')\n",
    "    inst=2\n",
    "    att=1\n",
    "    ser=int('10')\n",
    "    dataon = np.array([1, 0, 0, 0])\n",
    "    dataoff = np.array([2, 0, 0, 0])\n",
    "    dataservoon = np.hstack((89, 69, 82, 67, 32, 0, 4, 0, 3, 1, 0, reqid, 0, 0, 0, 0, 57, 57, 57, 57, 57, 57, 57, 57, cdno, 0, inst, 0, att, ser, 0, 0, dataon))\n",
    "    dataservooff = np.hstack((89, 69, 82, 67, 32, 0, 4, 0, 3, 1, 0, reqid, 0, 0, 0, 0, 57, 57, 57, 57, 57, 57, 57, 57, cdno, 0, inst, 0, att, ser, 0, 0, dataoff))\n",
    "    if a == True:\n",
    "        return dataservoon\n",
    "    else:\n",
    "        return dataservooff\n",
    "    \n",
    "#type of input givent to the code is 'a' which is a boolean varaible"
   ]
  },
  {
   "cell_type": "code",
   "execution_count": 44,
   "metadata": {},
   "outputs": [
    {
     "ename": "TypeError",
     "evalue": "'SocketKind' object is not callable",
     "output_type": "error",
     "traceback": [
      "\u001b[0;31m---------------------------------------------------------------------------\u001b[0m",
      "\u001b[0;31mTypeError\u001b[0m                                 Traceback (most recent call last)",
      "\u001b[0;32m<ipython-input-44-e4af4967fe38>\u001b[0m in \u001b[0;36m<module>\u001b[0;34m()\u001b[0m\n\u001b[1;32m     17\u001b[0m \u001b[0mclientSock\u001b[0m\u001b[0;34m.\u001b[0m\u001b[0msendto\u001b[0m\u001b[0;34m(\u001b[0m\u001b[0mservo_motor\u001b[0m\u001b[0;34m(\u001b[0m\u001b[0;36m0\u001b[0m\u001b[0;34m)\u001b[0m\u001b[0;34m,\u001b[0m \u001b[0;34m(\u001b[0m\u001b[0mUDP_IP_ADDRESS\u001b[0m\u001b[0;34m,\u001b[0m \u001b[0mUDP_PORT_NO\u001b[0m\u001b[0;34m)\u001b[0m\u001b[0;34m)\u001b[0m\u001b[0;34m\u001b[0m\u001b[0m\n\u001b[1;32m     18\u001b[0m \u001b[0;34m\u001b[0m\u001b[0m\n\u001b[0;32m---> 19\u001b[0;31m \u001b[0mclientSock\u001b[0m\u001b[0;34m.\u001b[0m\u001b[0mtype\u001b[0m\u001b[0;34m(\u001b[0m\u001b[0;34m)\u001b[0m\u001b[0;34m\u001b[0m\u001b[0m\n\u001b[0m",
      "\u001b[0;31mTypeError\u001b[0m: 'SocketKind' object is not callable"
     ]
    }
   ],
   "source": [
    "import socket\n",
    "import time\n",
    "\n",
    "\n",
    "UDP_IP_ADDRESS = '192.168.255.1'\n",
    "UDP_PORT_NO = 10040\n",
    "Message = \"Hello, Server\"\n",
    "\n",
    "\n",
    "#to create the socket through which we will be sending our UDP message to the server\n",
    "clientSock = socket.socket(socket.AF_INET, socket.SOCK_DGRAM)\n",
    "\n",
    "#to write the code that will send our UDP message (turn on)\n",
    "clientSock.sendto(servo_motor(1), (UDP_IP_ADDRESS, UDP_PORT_NO))\n",
    "\n",
    "\n",
    "time.sleep(5)# number of seconds\n",
    "\n",
    "#to write the code that will send our UDP message (turn off)\n",
    "clientSock.sendto(servo_motor(0), (UDP_IP_ADDRESS, UDP_PORT_NO))\n"
   ]
  },
  {
   "cell_type": "code",
   "execution_count": 37,
   "metadata": {},
   "outputs": [
    {
     "name": "stdout",
     "output_type": "stream",
     "text": [
      "Hello\n",
      "Bye\n"
     ]
    }
   ],
   "source": [
    "import time\n",
    "print('Hello')\n",
    "time.sleep(5) #number of seconds\n",
    "print('Bye')"
   ]
  },
  {
   "cell_type": "code",
   "execution_count": null,
   "metadata": {},
   "outputs": [],
   "source": []
  }
 ],
 "metadata": {
  "kernelspec": {
   "display_name": "Python 3",
   "language": "python",
   "name": "python3"
  },
  "language_info": {
   "codemirror_mode": {
    "name": "ipython",
    "version": 3
   },
   "file_extension": ".py",
   "mimetype": "text/x-python",
   "name": "python",
   "nbconvert_exporter": "python",
   "pygments_lexer": "ipython3",
   "version": "3.6.5"
  }
 },
 "nbformat": 4,
 "nbformat_minor": 2
}
