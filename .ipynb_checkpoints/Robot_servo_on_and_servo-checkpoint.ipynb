{
 "cells": [
  {
   "cell_type": "code",
   "execution_count": null,
   "metadata": {},
   "outputs": [],
   "source": [
    "import numpy as np\n"
   ]
  },
  {
   "cell_type": "code",
   "execution_count": null,
   "metadata": {},
   "outputs": [],
   "source": [
    "## Defining protocol data for Servo turn on/off\n",
    "\n",
    "reqid=1\n",
    "cdno=hex2dec('83')\n",
    "inst=2\n",
    "att=1\n",
    "ser=hex2dec('10');\n",
    "dataon=[1, 0, 0, 0];\n",
    "dataoff=[2, 0, 0, 0];\n",
    "dataservoon=[89, 69, 82, 67, 32, 0, 4, 0, 3, 1, 0, reqid, 0, 0, 0, 0, 57, 57, 57, 57, 57, 57, 57, 57, cdno, 0, inst, 0, att, ser, 0, 0, dataon];\n",
    "dataservooff=[89, 69, 82, 67, 32, 0, 4, 0, 3, 1, 0, reqid, 0, 0, 0, 0, 57, 57, 57, 57, 57, 57, 57, 57, cdno, 0, inst, 0, att, ser, 0, 0, dataoff];"
   ]
  },
  {
   "cell_type": "code",
   "execution_count": null,
   "metadata": {},
   "outputs": [],
   "source": [
    "a = np.array([1, 2, 3, 4])\n",
    "b = np.array([2, 3, 4, 5])\n",
    "np.concatenate((a,b), axis=0)\n",
    "np.hstack((a,b))"
   ]
  },
  {
   "cell_type": "code",
   "execution_count": null,
   "metadata": {},
   "outputs": [],
   "source": [
    "cdno=int('83')\n",
    "cdno"
   ]
  },
  {
   "cell_type": "code",
   "execution_count": null,
   "metadata": {},
   "outputs": [],
   "source": [
    "np.hstack((a,cdno,b,25,33))"
   ]
  },
  {
   "cell_type": "code",
   "execution_count": null,
   "metadata": {},
   "outputs": [],
   "source": [
    "import numpy as np\n",
    "\n",
    "\n",
    "#servo on or off\n",
    "def servo_motor(a):\n",
    "    reqid=1\n",
    "    cdno=int('83')\n",
    "    inst=2\n",
    "    att=1\n",
    "    ser=int('10')\n",
    "    dataon = np.array([1, 0, 0, 0])\n",
    "    dataoff = np.array([2, 0, 0, 0])\n",
    "    dataservoon = np.hstack((89, 69, 82, 67, 32, 0, 4, 0, 3, 1, 0, reqid, 0, 0, 0, 0, 57, 57, 57, 57, 57, 57, 57, 57, cdno, 0, inst, 0, att, ser, 0, 0, dataon))\n",
    "    dataservooff = np.hstack((89, 69, 82, 67, 32, 0, 4, 0, 3, 1, 0, reqid, 0, 0, 0, 0, 57, 57, 57, 57, 57, 57, 57, 57, cdno, 0, inst, 0, att, ser, 0, 0, dataoff))\n",
    "    if a == True:\n",
    "        return dataservoon\n",
    "    else:\n",
    "        return dataservooff\n",
    "    \n",
    "#type of input givent to the code is 'a' which is a boolean varaible"
   ]
  },
  {
   "cell_type": "code",
   "execution_count": 4,
   "metadata": {},
   "outputs": [
    {
     "data": {
      "text/plain": [
       "'6745230F33CC55AA0133CC55AA'"
      ]
     },
     "execution_count": 4,
     "metadata": {},
     "output_type": "execute_result"
    }
   ],
   "source": [
    "def little(string):\n",
    "    t = bytearray.fromhex(string)\n",
    "    t.reverse()\n",
    "    return ''.join(format(x,'02x') for x in t).upper()\n",
    "little(string='AA55CC3301AA55CC330F234567')"
   ]
  },
  {
   "cell_type": "code",
   "execution_count": null,
   "metadata": {},
   "outputs": [],
   "source": []
  },
  {
   "cell_type": "code",
   "execution_count": null,
   "metadata": {},
   "outputs": [],
   "source": [
    "x = servo_motor(1)\n",
    "x"
   ]
  },
  {
   "cell_type": "code",
   "execution_count": null,
   "metadata": {},
   "outputs": [],
   "source": [
    "import socket\n",
    "UDP_IP_ADDRESS = '192.168.255.1'\n",
    "UDP_PORT_NO = 10040\n",
    "Message = \"Hello, Server\"\n",
    "\n",
    "\n",
    "import time\n",
    "\n",
    "#to create the socket through which we will be sending our UDP message to the server\n",
    "clientSock = socket.socket(socket.AF_INET, socket.SOCK_DGRAM)\n",
    "\n",
    "#clientSock.connect((UDP_IP_ADDRESS, UDP_PORT_NO))\n",
    "\n",
    "\n",
    "#to write the code that will send our UDP message (turn on)\n",
    "s = clientSock.sendto(servo_motor(1), (UDP_IP_ADDRESS, UDP_PORT_NO))\n",
    "x = clientSock.recvmsg(1000)\n",
    "\n",
    "time.sleep(5)# number of seconds\n",
    "\n",
    "#to write the code that will send our UDP message (turn off)\n",
    "clientSock.sendto(servo_motor(0), (UDP_IP_ADDRESS, UDP_PORT_NO))\n",
    "print(x)"
   ]
  },
  {
   "cell_type": "code",
   "execution_count": null,
   "metadata": {},
   "outputs": [],
   "source": [
    "import socket\n",
    "UDP_IP_ADDRESS = '192.168.0.105'\n",
    "UDP_PORT_NO = 10040\n",
    "Message = \"Hello, Server\"\n",
    "\n",
    "\n",
    "import time\n",
    "\n",
    "#to create the socket through which we will be sending our UDP message to the server\n",
    "clientSock = socket.socket(socket.AF_INET, socket.SOCK_DGRAM)\n",
    "\n",
    "clientSock.bind((UDP_IP_ADDRESS, UDP_PORT_NO))\n",
    "\n",
    "\n",
    "#to write the code that will send our UDP message (turn on)\n",
    "#s = clientSock.sendto(Message, (UDP_IP_ADDRESS, UDP_PORT_NO))\n",
    "#x = clientSock.recvmsg(1000)\n",
    "\n",
    "while True:\n",
    "    data, addr = clientSock.recvfrom(1024) # buffer size is 1024 bytes\n",
    "    print(\"received message:\", data)\n",
    "#time.sleep(5)# number of seconds\n",
    "\n",
    "#to write the code that will send our UDP message (turn off)\n",
    "#clientSock.sendto(Message, (UDP_IP_ADDRESS, UDP_PORT_NO))"
   ]
  },
  {
   "cell_type": "markdown",
   "metadata": {},
   "source": [
    "# Reading a file from my own IP address"
   ]
  },
  {
   "cell_type": "code",
   "execution_count": null,
   "metadata": {},
   "outputs": [
    {
     "name": "stdout",
     "output_type": "stream",
     "text": [
      "received message: b'YERC \\x00\\x04\\x00\\x03\\x01\\x00\\x01\\x00\\x00\\x00\\x0099999999\\x83\\x00\\x02\\x00\\x01\\x10\\x00\\x00\\x01\\x00\\x00\\x00'\n",
      "('192.168.0.100', 58943)\n",
      "received message: b'YERC \\x00h\\x00\\x03\\x01\\x00\\x02\\x00\\x00\\x00\\x0099999999\\x8a\\x00\\x02\\x00\\x01\\x02\\x00\\x00\\x01\\x00\\x00\\x00\\x00\\x00\\x00\\x00\\x02\\x00\\x00\\x00d\\x00\\x00\\x00\\x12\\x00\\x00\\x00N\\xa4\\x07\\x00\\xac\\xdf\\x06\\x00<)\\xfd\\xff\\x00\\x00\\x00\\x00\\x00\\x00\\x00\\x00\\xa0\\xbb\\r\\x00\\x00\\x00\\x00\\x00\\x00\\x00\\x00\\x00\\x04\\x00\\x00\\x00\\x00\\x00\\x00\\x00\\x00\\x00\\x00\\x00\\x02\\x00\\x00\\x00\\x00\\x00\\x00\\x00\\x00\\x00\\x00\\x00\\x00\\x00\\x00\\x00\\x00\\x00\\x00\\x00\\x00\\x00\\x00\\x00\\x00\\x00\\x00\\x00\\x00\\x00\\x00\\x00\\x00\\x00\\x00\\x00\\x00\\x00\\x00\\x00'\n",
      "('192.168.0.100', 58943)\n",
      "received message: b'YERC \\x00$\\x00\\x03\\x01\\x00\\x03\\x00\\x00\\x00\\x0099999999\\x87\\x00\\x01\\x00\\x00\\x02\\x00\\x00GRIPOPENO\\x00\\x00\\x00\\x00\\x00\\x00\\x00\\x00\\x00\\x00\\x00\\x00\\x00\\x00\\x00\\x00\\x00\\x00\\x00\\x00\\x00\\x00\\x00\\x00\\x00\\x00\\x00'\n",
      "('192.168.0.100', 58943)\n",
      "received message: b'YERC \\x00\\x04\\x00\\x03\\x01\\x00\\x04\\x00\\x00\\x00\\x0099999999\\x86\\x00\\x01\\x00\\x01\\x10\\x00\\x00\\x01\\x00\\x00\\x00'\n",
      "('192.168.0.100', 58943)\n",
      "received message: b'YERC \\x00h\\x00\\x03\\x01\\x00\\x02\\x00\\x00\\x00\\x0099999999\\x8a\\x00\\x02\\x00\\x01\\x02\\x00\\x00\\x01\\x00\\x00\\x00\\x00\\x00\\x00\\x00\\x01\\x00\\x00\\x00\\x96\\x00\\x00\\x00\\x12\\x00\\x00\\x00N\\xa4\\x07\\x00\\xac\\xdf\\x06\\x00d\\xc3\\xfe\\xff\\x00\\x00\\x00\\x00\\x00\\x00\\x00\\x00\\xa0\\xbb\\r\\x00\\x00\\x00\\x00\\x00\\x00\\x00\\x00\\x00\\x04\\x00\\x00\\x00\\x00\\x00\\x00\\x00\\x00\\x00\\x00\\x00\\x02\\x00\\x00\\x00\\x00\\x00\\x00\\x00\\x00\\x00\\x00\\x00\\x00\\x00\\x00\\x00\\x00\\x00\\x00\\x00\\x00\\x00\\x00\\x00\\x00\\x00\\x00\\x00\\x00\\x00\\x00\\x00\\x00\\x00\\x00\\x00\\x00\\x00\\x00\\x00'\n",
      "('192.168.0.100', 58943)\n",
      "received message: b'YERC \\x00$\\x00\\x03\\x01\\x00\\x03\\x00\\x00\\x00\\x0099999999\\x87\\x00\\x01\\x00\\x00\\x02\\x00\\x00GRIPOPEN\\x00\\x00\\x00\\x00\\x00\\x00\\x00\\x00\\x00\\x00\\x00\\x00\\x00\\x00\\x00\\x00\\x00\\x00\\x00\\x00\\x00\\x00\\x00\\x00\\x00\\x00\\x00\\x00'\n",
      "('192.168.0.100', 58943)\n",
      "received message: b'YERC \\x00\\x04\\x00\\x03\\x01\\x00\\x04\\x00\\x00\\x00\\x0099999999\\x86\\x00\\x01\\x00\\x01\\x10\\x00\\x00\\x01\\x00\\x00\\x00'\n",
      "('192.168.0.100', 58943)\n",
      "received message: b'YERC \\x00h\\x00\\x03\\x01\\x00\\x02\\x00\\x00\\x00\\x0099999999\\x8a\\x00\\x02\\x00\\x01\\x02\\x00\\x00\\x01\\x00\\x00\\x00\\x00\\x00\\x00\\x00\\x01\\x00\\x00\\x00\\x96\\x00\\x00\\x00\\x12\\x00\\x00\\x00N\\xa4\\x07\\x00\\xac\\xdf\\x06\\x00<)\\xfd\\xff\\x00\\x00\\x00\\x00\\x00\\x00\\x00\\x00\\xa0\\xbb\\r\\x00\\x00\\x00\\x00\\x00\\x00\\x00\\x00\\x00\\x04\\x00\\x00\\x00\\x00\\x00\\x00\\x00\\x00\\x00\\x00\\x00\\x02\\x00\\x00\\x00\\x00\\x00\\x00\\x00\\x00\\x00\\x00\\x00\\x00\\x00\\x00\\x00\\x00\\x00\\x00\\x00\\x00\\x00\\x00\\x00\\x00\\x00\\x00\\x00\\x00\\x00\\x00\\x00\\x00\\x00\\x00\\x00\\x00\\x00\\x00\\x00'\n",
      "('192.168.0.100', 58943)\n",
      "received message: b'YERC \\x00h\\x00\\x03\\x01\\x00\\x02\\x00\\x00\\x00\\x0099999999\\x8a\\x00\\x02\\x00\\x01\\x02\\x00\\x00\\x01\\x00\\x00\\x00\\x00\\x00\\x00\\x00\\x02\\x00\\x00\\x00<\\x00\\x00\\x00\\x12\\x00\\x00\\x00|\\xf2\\x0c\\x00]\\x8e\\x05\\x00\\xeb)\\xfc\\xff\\x00\\x00\\x00\\x00\\x00\\x00\\x00\\x00\\xa0\\xbb\\r\\x00\\x00\\x00\\x00\\x00\\x00\\x00\\x00\\x00\\x04\\x00\\x00\\x00\\x00\\x00\\x00\\x00\\x00\\x00\\x00\\x00\\x02\\x00\\x00\\x00\\x00\\x00\\x00\\x00\\x00\\x00\\x00\\x00\\x00\\x00\\x00\\x00\\x00\\x00\\x00\\x00\\x00\\x00\\x00\\x00\\x00\\x00\\x00\\x00\\x00\\x00\\x00\\x00\\x00\\x00\\x00\\x00\\x00\\x00\\x00\\x00'\n",
      "('192.168.0.100', 58943)\n",
      "received message: b'YERC \\x00h\\x00\\x03\\x01\\x00\\x02\\x00\\x00\\x00\\x0099999999\\x8a\\x00\\x02\\x00\\x01\\x02\\x00\\x00\\x01\\x00\\x00\\x00\\x00\\x00\\x00\\x00\\x01\\x00\\x00\\x00\\x96\\x00\\x00\\x00\\x12\\x00\\x00\\x00\\x87\\xf2\\x0c\\x00X\\x8e\\x05\\x00\\x8b\\xb0\\xfd\\xff\\x00\\x00\\x00\\x00\\x00\\x00\\x00\\x00\\xa0\\xbb\\r\\x00\\x00\\x00\\x00\\x00\\x00\\x00\\x00\\x00\\x04\\x00\\x00\\x00\\x00\\x00\\x00\\x00\\x00\\x00\\x00\\x00\\x02\\x00\\x00\\x00\\x00\\x00\\x00\\x00\\x00\\x00\\x00\\x00\\x00\\x00\\x00\\x00\\x00\\x00\\x00\\x00\\x00\\x00\\x00\\x00\\x00\\x00\\x00\\x00\\x00\\x00\\x00\\x00\\x00\\x00\\x00\\x00\\x00\\x00\\x00\\x00'\n",
      "('192.168.0.100', 58943)\n",
      "received message: b'YERC \\x00$\\x00\\x03\\x01\\x00\\x03\\x00\\x00\\x00\\x0099999999\\x87\\x00\\x01\\x00\\x00\\x02\\x00\\x00GRIPOPENO\\x00\\x00\\x00\\x00\\x00\\x00\\x00\\x00\\x00\\x00\\x00\\x00\\x00\\x00\\x00\\x00\\x00\\x00\\x00\\x00\\x00\\x00\\x00\\x00\\x00\\x00\\x00'\n",
      "('192.168.0.100', 58943)\n",
      "received message: b'YERC \\x00\\x04\\x00\\x03\\x01\\x00\\x04\\x00\\x00\\x00\\x0099999999\\x86\\x00\\x01\\x00\\x01\\x10\\x00\\x00\\x01\\x00\\x00\\x00'\n",
      "('192.168.0.100', 58943)\n",
      "received message: b'YERC \\x00h\\x00\\x03\\x01\\x00\\x02\\x00\\x00\\x00\\x0099999999\\x8a\\x00\\x02\\x00\\x01\\x02\\x00\\x00\\x01\\x00\\x00\\x00\\x00\\x00\\x00\\x00\\x01\\x00\\x00\\x00\\x96\\x00\\x00\\x00\\x12\\x00\\x00\\x00|\\xf2\\x0c\\x00]\\x8e\\x05\\x00\\xeb)\\xfc\\xff\\x00\\x00\\x00\\x00\\x00\\x00\\x00\\x00\\xa0\\xbb\\r\\x00\\x00\\x00\\x00\\x00\\x00\\x00\\x00\\x00\\x04\\x00\\x00\\x00\\x00\\x00\\x00\\x00\\x00\\x00\\x00\\x00\\x02\\x00\\x00\\x00\\x00\\x00\\x00\\x00\\x00\\x00\\x00\\x00\\x00\\x00\\x00\\x00\\x00\\x00\\x00\\x00\\x00\\x00\\x00\\x00\\x00\\x00\\x00\\x00\\x00\\x00\\x00\\x00\\x00\\x00\\x00\\x00\\x00\\x00\\x00\\x00'\n",
      "('192.168.0.100', 58943)\n",
      "received message: b'YERC \\x00\\x04\\x00\\x03\\x01\\x00\\x01\\x00\\x00\\x00\\x0099999999\\x83\\x00\\x02\\x00\\x01\\x10\\x00\\x00\\x02\\x00\\x00\\x00'\n",
      "('192.168.0.100', 58943)\n"
     ]
    }
   ],
   "source": [
    "import socket\n",
    "\n",
    "UDP_IP = \"192.168.0.102\"\n",
    "UDP_PORT = 10040\n",
    "\n",
    "sock = socket.socket(socket.AF_INET, # Internet\n",
    "                     socket.SOCK_DGRAM) # UDP\n",
    "\n",
    "sock.bind((UDP_IP, UDP_PORT))\n",
    "\n",
    "while True:\n",
    "    data, addr = sock.recvfrom(1024) # buffer size is 1024 bytes\n",
    "    print(\"received message: \" + str(data))\n",
    "    print(addr)"
   ]
  },
  {
   "cell_type": "code",
   "execution_count": null,
   "metadata": {},
   "outputs": [],
   "source": [
    "np.str(x)\n",
    "x[0]"
   ]
  },
  {
   "cell_type": "code",
   "execution_count": null,
   "metadata": {},
   "outputs": [],
   "source": [
    "clientSock.close()"
   ]
  },
  {
   "cell_type": "code",
   "execution_count": null,
   "metadata": {},
   "outputs": [],
   "source": [
    "\n",
    "#to write the code that will send our UDP message (turn on)\n",
    "clientSock.sendto(servo_motor(1), (UDP_IP_ADDRESS, UDP_PORT_NO))\n",
    "\n",
    "\n",
    "time.sleep(5)# number of seconds\n",
    "\n",
    "#to write the code that will send our UDP message (turn off)\n",
    "clientSock.sendto(servo_motor(0), (UDP_IP_ADDRESS, UDP_PORT_NO))\n",
    "\n",
    "\n"
   ]
  },
  {
   "cell_type": "code",
   "execution_count": null,
   "metadata": {},
   "outputs": [],
   "source": [
    "\n",
    "socket.SocketKind"
   ]
  },
  {
   "cell_type": "code",
   "execution_count": null,
   "metadata": {},
   "outputs": [],
   "source": [
    "socket.gethostname()"
   ]
  },
  {
   "cell_type": "code",
   "execution_count": null,
   "metadata": {},
   "outputs": [],
   "source": [
    "socket.getservbyname()"
   ]
  },
  {
   "cell_type": "code",
   "execution_count": null,
   "metadata": {},
   "outputs": [],
   "source": []
  }
 ],
 "metadata": {
  "kernelspec": {
   "display_name": "Python 3",
   "language": "python",
   "name": "python3"
  },
  "language_info": {
   "codemirror_mode": {
    "name": "ipython",
    "version": 3
   },
   "file_extension": ".py",
   "mimetype": "text/x-python",
   "name": "python",
   "nbconvert_exporter": "python",
   "pygments_lexer": "ipython3",
   "version": "3.6.5"
  }
 },
 "nbformat": 4,
 "nbformat_minor": 2
}
