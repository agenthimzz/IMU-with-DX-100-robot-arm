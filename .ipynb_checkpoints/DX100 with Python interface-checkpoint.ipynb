{
 "cells": [
  {
   "cell_type": "markdown",
   "metadata": {},
   "source": [
    "# This is the code for object oriented programming of Yasakawa Robot DX100 working on UDP protocol.\n",
    " \n",
    " I have not yet completed the problem but i am very close to completing it.\n",
    " \n",
    " the UDP reader in Yasakawa is reading data in bytes in big endian format but the data is to be sent before the timeout period.. that is 1 second roughly. \n",
    " so when we are sending we are converting everything we want to send to a list of bytes\n",
    " this list is then sent (one-by-one)\n",
    " then there is a delay of 1 second\n",
    " hopefully this whole message is considered as one"
   ]
  },
  {
   "cell_type": "code",
   "execution_count": null,
   "metadata": {},
   "outputs": [],
   "source": []
  },
  {
   "cell_type": "code",
   "execution_count": 109,
   "metadata": {},
   "outputs": [],
   "source": [
    "class RobotDX100:\n",
    "    import socket\n",
    "    import time\n",
    "    \n",
    "    #variables and the order for sending variables\n",
    "    \n",
    "    tosend1 = [89, 69, 82, 67, 32, 0, 4, 0, 3, 1, 0]\n",
    "    #reqid = 01,02,03\n",
    "    tosend2 = [0, 0, 0, 0, 57, 57, 57, 57, 57, 57, 57, 57]\n",
    "    #cdno = int('83') \n",
    "    tosend3 = [0]\n",
    "    #inst = 2\n",
    "    tosend4 = [0] \n",
    "    #att = [1] \n",
    "    #ser = int('10')\n",
    "    tosend5 = [0, 0]\n",
    "    #dataon = [1,0,0,0]\n",
    "    \n",
    "    def __init__(self, ip = '192.168.0.151', port = 10040):\n",
    "        self.ip = ip\n",
    "        self.port = port\n",
    "        \n",
    "    def connect(self):\n",
    "        import socket\n",
    "        #to create the socket through which we will be sending our UDP message to the server\n",
    "        clientSock = socket.socket(socket.AF_INET, socket.SOCK_DGRAM)\n",
    "    \n",
    "    def servo(self, on = 1):\n",
    "        import socket\n",
    "\n",
    "        #to write the code that will send our UDP message (turn on)\n",
    "        reqid = [1]\n",
    "        cdno = [83]\n",
    "        inst = [2] \n",
    "        att = [1]\n",
    "        ser = [10]\n",
    "        dataon = [1, 0, 0, 0]\n",
    "        dataoff = [2, 0, 0, 0]\n",
    "        var = RobotDX100.tosend1\n",
    "        var.extend(reqid)\n",
    "        var.extend(RobotDX100.tosend2)\n",
    "        var.extend(cdno)\n",
    "        var.extend(RobotDX100.tosend3)\n",
    "        var.extend(inst)\n",
    "        var.extend(RobotDX100.tosend4)\n",
    "        var.extend(att)\n",
    "        var.extend(ser)\n",
    "        var.extend(RobotDX100.tosend5)\n",
    "        dataservoon = var\n",
    "        dataservoon.extend(dataon)\n",
    "        dataservooff = var\n",
    "        dataservooff.extend(dataoff)\n",
    "        \n",
    "        \n",
    "        if on == True:\n",
    "            return dataservoon\n",
    "        else:\n",
    "            #to write the code that will send our UDP message (turn off)\n",
    "            return dataservooff\n",
    "                \n",
    "        time.sleep(5)# number of seconds\n",
    "        \n",
    "    "
   ]
  },
  {
   "cell_type": "code",
   "execution_count": null,
   "metadata": {},
   "outputs": [],
   "source": []
  },
  {
   "cell_type": "code",
   "execution_count": 110,
   "metadata": {},
   "outputs": [],
   "source": [
    "r = RobotDX100()"
   ]
  },
  {
   "cell_type": "code",
   "execution_count": 111,
   "metadata": {},
   "outputs": [],
   "source": [
    "r.connect()"
   ]
  },
  {
   "cell_type": "code",
   "execution_count": 112,
   "metadata": {
    "scrolled": true
   },
   "outputs": [
    {
     "ename": "AttributeError",
     "evalue": "'RobotDX100' object has no attribute 'var'",
     "output_type": "error",
     "traceback": [
      "\u001b[0;31m---------------------------------------------------------------------------\u001b[0m",
      "\u001b[0;31mAttributeError\u001b[0m                            Traceback (most recent call last)",
      "\u001b[0;32m<ipython-input-112-c860f87506e5>\u001b[0m in \u001b[0;36m<module>\u001b[0;34m()\u001b[0m\n\u001b[0;32m----> 1\u001b[0;31m \u001b[0mr\u001b[0m\u001b[0;34m.\u001b[0m\u001b[0mvar\u001b[0m\u001b[0;34m.\u001b[0m\u001b[0mto_bytes\u001b[0m\u001b[0;34m(\u001b[0m\u001b[0;36m1\u001b[0m\u001b[0;34m,\u001b[0m\u001b[0;34m'big'\u001b[0m\u001b[0;34m)\u001b[0m\u001b[0;34m\u001b[0m\u001b[0m\n\u001b[0m",
      "\u001b[0;31mAttributeError\u001b[0m: 'RobotDX100' object has no attribute 'var'"
     ]
    }
   ],
   "source": [
    "r.var.to_bytes(1,'big')"
   ]
  },
  {
   "cell_type": "code",
   "execution_count": 113,
   "metadata": {},
   "outputs": [
    {
     "data": {
      "text/plain": [
       "[1,\n",
       " 1,\n",
       " 1,\n",
       " 1,\n",
       " 1,\n",
       " 1,\n",
       " 1,\n",
       " 1,\n",
       " 1,\n",
       " 1,\n",
       " 1,\n",
       " 1,\n",
       " 1,\n",
       " 1,\n",
       " 1,\n",
       " 1,\n",
       " 1,\n",
       " 1,\n",
       " 1,\n",
       " 1,\n",
       " 1,\n",
       " 1,\n",
       " 1,\n",
       " 1,\n",
       " 1,\n",
       " 1,\n",
       " 1,\n",
       " 1,\n",
       " 1,\n",
       " 1,\n",
       " 1,\n",
       " 1,\n",
       " 1,\n",
       " 1,\n",
       " 1,\n",
       " 1,\n",
       " 1,\n",
       " 1,\n",
       " 1,\n",
       " 1,\n",
       " 1,\n",
       " 1,\n",
       " 1,\n",
       " 1,\n",
       " 1,\n",
       " 1,\n",
       " 1,\n",
       " 1,\n",
       " 1,\n",
       " 1,\n",
       " 1,\n",
       " 1,\n",
       " 1,\n",
       " 1,\n",
       " 1,\n",
       " 1,\n",
       " 1,\n",
       " 1,\n",
       " 1,\n",
       " 1,\n",
       " 1,\n",
       " 1,\n",
       " 1,\n",
       " 1,\n",
       " 1,\n",
       " 1,\n",
       " 1,\n",
       " 1,\n",
       " 1]"
      ]
     },
     "execution_count": 113,
     "metadata": {},
     "output_type": "execute_result"
    }
   ],
   "source": [
    "import socket\n",
    "import time\n",
    "UDP_IP_ADDRESS = r.ip\n",
    "UDP_PORT_NO = r.port\n",
    "\n",
    "#make x = dataservoon in bytes.\n",
    "x = [i.to_bytes(1, 'big') for i in r.servo(True)]\n",
    "#to write each element (One-by-one) of the list in our UDP message (turn on)\n",
    "[clientSock.sendto( i , (r.ip, r.port)) for i in x]\n",
    "#r.var = 0\n",
    "\n",
    "time.sleep(5)# number of seconds\n",
    "\n",
    "\n",
    "#make x = dataservooff in bytes.\n",
    "x = [i.to_bytes(1, 'big') for i in r.servo(False)]\n",
    "#to write each element (One-by-one) of the list in our UDP message (turn on)\n",
    "[clientSock.sendto( i , (r.ip, r.port)) for i in x]\n",
    "#r.var = 0\n"
   ]
  },
  {
   "cell_type": "code",
   "execution_count": 114,
   "metadata": {},
   "outputs": [
    {
     "ename": "AttributeError",
     "evalue": "'RobotDX100' object has no attribute 'var'",
     "output_type": "error",
     "traceback": [
      "\u001b[0;31m---------------------------------------------------------------------------\u001b[0m",
      "\u001b[0;31mAttributeError\u001b[0m                            Traceback (most recent call last)",
      "\u001b[0;32m<ipython-input-114-913172c3c4a8>\u001b[0m in \u001b[0;36m<module>\u001b[0;34m()\u001b[0m\n\u001b[0;32m----> 1\u001b[0;31m \u001b[0mr\u001b[0m\u001b[0;34m.\u001b[0m\u001b[0mvar\u001b[0m\u001b[0;34m\u001b[0m\u001b[0m\n\u001b[0m",
      "\u001b[0;31mAttributeError\u001b[0m: 'RobotDX100' object has no attribute 'var'"
     ]
    }
   ],
   "source": [
    "r.var"
   ]
  },
  {
   "cell_type": "code",
   "execution_count": null,
   "metadata": {},
   "outputs": [],
   "source": []
  }
 ],
 "metadata": {
  "kernelspec": {
   "display_name": "Python 3",
   "language": "python",
   "name": "python3"
  },
  "language_info": {
   "codemirror_mode": {
    "name": "ipython",
    "version": 3
   },
   "file_extension": ".py",
   "mimetype": "text/x-python",
   "name": "python",
   "nbconvert_exporter": "python",
   "pygments_lexer": "ipython3",
   "version": "3.6.5"
  }
 },
 "nbformat": 4,
 "nbformat_minor": 2
}
